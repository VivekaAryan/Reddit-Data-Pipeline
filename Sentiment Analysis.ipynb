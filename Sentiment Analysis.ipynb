{
 "cells": [
  {
   "cell_type": "markdown",
   "metadata": {},
   "source": [
    "# Reddit Posts Sentiment Analysis\n",
    "\n",
    "We will be looking at 2 different techiniques of doing sentiment analysis:\n",
    "1. __VADER__ (Valence Aware Dictionary and sEntiment Reasoner) - Bag of words approach\n",
    "2. __Roberta__ - Pretrained Transformer Model\n",
    "3. __Abstract Based Sentiment Analysis__"
   ]
  },
  {
   "cell_type": "code",
   "execution_count": 1,
   "metadata": {},
   "outputs": [
    {
     "name": "stderr",
     "output_type": "stream",
     "text": [
      "C:\\Users\\aryan\\AppData\\Local\\Temp\\ipykernel_26964\\1921943495.py:2: DeprecationWarning: \n",
      "Pyarrow will become a required dependency of pandas in the next major release of pandas (pandas 3.0),\n",
      "(to allow more performant data types, such as the Arrow string type, and better interoperability with other libraries)\n",
      "but was not found to be installed on your system.\n",
      "If this would cause problems for you,\n",
      "please provide us feedback at https://github.com/pandas-dev/pandas/issues/54466\n",
      "        \n",
      "  import pandas as pd\n"
     ]
    }
   ],
   "source": [
    "# Importing Libraries\n",
    "import pandas as pd\n",
    "import numpy as np\n",
    "import matplotlib.pyplot as plt\n",
    "import seaborn as sns\n",
    "\n",
    "plt.style.use('ggplot')\n",
    "\n",
    "import nltk"
   ]
  },
  {
   "cell_type": "code",
   "execution_count": 2,
   "metadata": {},
   "outputs": [],
   "source": [
    "# Read csv\n",
    "df = pd.read_csv(r\"D:\\Projects\\Reddit-Data-Pipeline\\data\\output\\reddit_20240220.csv\")"
   ]
  },
  {
   "cell_type": "code",
   "execution_count": 3,
   "metadata": {},
   "outputs": [
    {
     "name": "stdout",
     "output_type": "stream",
     "text": [
      "<class 'pandas.core.frame.DataFrame'>\n",
      "RangeIndex: 3798 entries, 0 to 3797\n",
      "Data columns (total 8 columns):\n",
      " #   Column        Non-Null Count  Dtype  \n",
      "---  ------        --------------  -----  \n",
      " 0   id            3798 non-null   object \n",
      " 1   subreddit     3798 non-null   object \n",
      " 2   title         3798 non-null   object \n",
      " 3   score         3798 non-null   int64  \n",
      " 4   num_comments  3798 non-null   int64  \n",
      " 5   author        3611 non-null   object \n",
      " 6   created_utc   3798 non-null   object \n",
      " 7   upvote_ratio  3798 non-null   float64\n",
      "dtypes: float64(1), int64(2), object(5)\n",
      "memory usage: 237.5+ KB\n"
     ]
    }
   ],
   "source": [
    "df.info()"
   ]
  },
  {
   "cell_type": "code",
   "execution_count": 4,
   "metadata": {},
   "outputs": [
    {
     "data": {
      "text/html": [
       "<div>\n",
       "<style scoped>\n",
       "    .dataframe tbody tr th:only-of-type {\n",
       "        vertical-align: middle;\n",
       "    }\n",
       "\n",
       "    .dataframe tbody tr th {\n",
       "        vertical-align: top;\n",
       "    }\n",
       "\n",
       "    .dataframe thead th {\n",
       "        text-align: right;\n",
       "    }\n",
       "</style>\n",
       "<table border=\"1\" class=\"dataframe\">\n",
       "  <thead>\n",
       "    <tr style=\"text-align: right;\">\n",
       "      <th></th>\n",
       "      <th>id</th>\n",
       "      <th>subreddit</th>\n",
       "      <th>title</th>\n",
       "      <th>score</th>\n",
       "      <th>num_comments</th>\n",
       "      <th>author</th>\n",
       "      <th>created_utc</th>\n",
       "      <th>upvote_ratio</th>\n",
       "    </tr>\n",
       "  </thead>\n",
       "  <tbody>\n",
       "    <tr>\n",
       "      <th>0</th>\n",
       "      <td>jptq5n</td>\n",
       "      <td>politics</td>\n",
       "      <td>Megathread: Joe Biden Projected to Defeat Pres...</td>\n",
       "      <td>214312</td>\n",
       "      <td>81613</td>\n",
       "      <td>PoliticsModeratorBot</td>\n",
       "      <td>2020-11-07 16:28:04</td>\n",
       "      <td>0.88</td>\n",
       "    </tr>\n",
       "    <tr>\n",
       "      <th>1</th>\n",
       "      <td>84aiy6</td>\n",
       "      <td>science</td>\n",
       "      <td>Physicist Stephen Hawking dies aged 76</td>\n",
       "      <td>199298</td>\n",
       "      <td>3830</td>\n",
       "      <td>ScienceModerator</td>\n",
       "      <td>2018-03-14 04:06:14</td>\n",
       "      <td>0.92</td>\n",
       "    </tr>\n",
       "    <tr>\n",
       "      <th>2</th>\n",
       "      <td>krntg6</td>\n",
       "      <td>politics</td>\n",
       "      <td>Mitch McConnell Will Lose Control Of The Senat...</td>\n",
       "      <td>156745</td>\n",
       "      <td>10140</td>\n",
       "      <td>klawdz</td>\n",
       "      <td>2021-01-06 13:25:44</td>\n",
       "      <td>0.92</td>\n",
       "    </tr>\n",
       "    <tr>\n",
       "      <th>3</th>\n",
       "      <td>bblu6v</td>\n",
       "      <td>science</td>\n",
       "      <td>The first picture of a black hole opens a new ...</td>\n",
       "      <td>155298</td>\n",
       "      <td>5512</td>\n",
       "      <td>Science_News</td>\n",
       "      <td>2019-04-10 13:11:37</td>\n",
       "      <td>0.95</td>\n",
       "    </tr>\n",
       "    <tr>\n",
       "      <th>4</th>\n",
       "      <td>ecm1zg</td>\n",
       "      <td>politics</td>\n",
       "      <td>Megathread: House Votes to Impeach President D...</td>\n",
       "      <td>147732</td>\n",
       "      <td>50885</td>\n",
       "      <td>PoliticsModeratorBot</td>\n",
       "      <td>2019-12-19 01:36:13</td>\n",
       "      <td>0.89</td>\n",
       "    </tr>\n",
       "  </tbody>\n",
       "</table>\n",
       "</div>"
      ],
      "text/plain": [
       "       id subreddit                                              title  \\\n",
       "0  jptq5n  politics  Megathread: Joe Biden Projected to Defeat Pres...   \n",
       "1  84aiy6   science             Physicist Stephen Hawking dies aged 76   \n",
       "2  krntg6  politics  Mitch McConnell Will Lose Control Of The Senat...   \n",
       "3  bblu6v   science  The first picture of a black hole opens a new ...   \n",
       "4  ecm1zg  politics  Megathread: House Votes to Impeach President D...   \n",
       "\n",
       "    score  num_comments                author          created_utc  \\\n",
       "0  214312         81613  PoliticsModeratorBot  2020-11-07 16:28:04   \n",
       "1  199298          3830      ScienceModerator  2018-03-14 04:06:14   \n",
       "2  156745         10140                klawdz  2021-01-06 13:25:44   \n",
       "3  155298          5512          Science_News  2019-04-10 13:11:37   \n",
       "4  147732         50885  PoliticsModeratorBot  2019-12-19 01:36:13   \n",
       "\n",
       "   upvote_ratio  \n",
       "0          0.88  \n",
       "1          0.92  \n",
       "2          0.92  \n",
       "3          0.95  \n",
       "4          0.89  "
      ]
     },
     "execution_count": 4,
     "metadata": {},
     "output_type": "execute_result"
    }
   ],
   "source": [
    "df.head()"
   ]
  },
  {
   "cell_type": "code",
   "execution_count": 15,
   "metadata": {},
   "outputs": [
    {
     "data": {
      "text/plain": [
       "True"
      ]
     },
     "execution_count": 15,
     "metadata": {},
     "output_type": "execute_result"
    }
   ],
   "source": [
    "df['id'].is_unique"
   ]
  },
  {
   "cell_type": "code",
   "execution_count": 16,
   "metadata": {},
   "outputs": [
    {
     "data": {
      "text/plain": [
       "False"
      ]
     },
     "execution_count": 16,
     "metadata": {},
     "output_type": "execute_result"
    }
   ],
   "source": [
    "df['subreddit'].is_unique"
   ]
  },
  {
   "cell_type": "code",
   "execution_count": 5,
   "metadata": {},
   "outputs": [
    {
     "data": {
      "image/png": "[encoded data removed]",
      "text/plain": [
       "<Figure size 700x400 with 1 Axes>"
      ]
     },
     "metadata": {},
     "output_type": "display_data"
    }
   ],
   "source": [
    "ax = df['subreddit'].value_counts().sort_index().plot(kind = 'bar',\n",
    "                                                      title = 'Subreddit Distribution',\n",
    "                                                      figsize=(7,4))\n",
    "\n",
    "ax.set_xlabel('Subreddits')\n",
    "plt.xticks(rotation=0)\n",
    "plt.show()"
   ]
  },
  {
   "cell_type": "code",
   "execution_count": 6,
   "metadata": {},
   "outputs": [
    {
     "data": {
      "text/plain": [
       "'House charges Donald Trump with impeachment for \"inciting an insurrection\"'"
      ]
     },
     "execution_count": 6,
     "metadata": {},
     "output_type": "execute_result"
    }
   ],
   "source": [
    "sample = df['title'][23]\n",
    "sample"
   ]
  },
  {
   "cell_type": "markdown",
   "metadata": {},
   "source": [
    "## 1. Vader (Valence Aware Dictionary and sEntiment Reasoner)\n",
    "\n",
    "Vader is a popular sentiment analysis tool in Python that provides a pre-trained model for sentiment analysis. It is a rule-based sentiment analysis tool that is specifically designed for analyzing social media texts.\n",
    "\n",
    "Vader uses a dictionary of words and rules to determine the sentiment of a piece of text. It uses a valence score for each word to determine its positivity or negativity. The valence score ranges from -4 to +4, with -4 being the most negative and +4 being the most positive. Vader also takes into account the intensity of the sentiment, which can be determined by capitalization and punctuation.\n",
    "\n",
    "The __SentimentIntensityAnalyzer__ class provides a method called `polarity_scores()` that takes a piece of text as input and returns a dictionary containing the sentiment scores for the text. The dictionary contains four keys: `neg`, `neu`, `pos`, and `compound`.\n",
    "\n",
    "- neg: the negative sentiment score (between 0 and 1)\n",
    "- neu: the neutral sentiment score (between 0 and 1)\n",
    "- pos: the positive sentiment score (between 0 and 1)\n",
    "- compound: the overall sentiment score (between -1 and 1)"
   ]
  },
  {
   "cell_type": "code",
   "execution_count": 7,
   "metadata": {},
   "outputs": [
    {
     "name": "stderr",
     "output_type": "stream",
     "text": [
      "[nltk_data] Downloading package vader_lexicon to\n",
      "[nltk_data]     C:\\Users\\aryan\\AppData\\Roaming\\nltk_data...\n",
      "[nltk_data]   Package vader_lexicon is already up-to-date!\n"
     ]
    },
    {
     "data": {
      "text/plain": [
       "True"
      ]
     },
     "execution_count": 7,
     "metadata": {},
     "output_type": "execute_result"
    }
   ],
   "source": [
    "import nltk\n",
    "nltk.download('vader_lexicon')"
   ]
  },
  {
   "cell_type": "code",
   "execution_count": 8,
   "metadata": {},
   "outputs": [],
   "source": [
    "from nltk.sentiment import SentimentIntensityAnalyzer\n",
    "from tqdm.notebook import tqdm\n",
    "\n",
    "vader = SentimentIntensityAnalyzer()"
   ]
  },
  {
   "cell_type": "code",
   "execution_count": 9,
   "metadata": {},
   "outputs": [
    {
     "data": {
      "text/plain": [
       "{'neg': 0.0, 'neu': 0.225, 'pos': 0.775, 'compound': 0.784}"
      ]
     },
     "execution_count": 9,
     "metadata": {},
     "output_type": "execute_result"
    }
   ],
   "source": [
    "vader.polarity_scores(\"i love to play Football!\")"
   ]
  },
  {
   "cell_type": "code",
   "execution_count": 10,
   "metadata": {},
   "outputs": [
    {
     "data": {
      "text/plain": [
       "{'neg': 0.445, 'neu': 0.555, 'pos': 0.0, 'compound': -0.3404}"
      ]
     },
     "execution_count": 10,
     "metadata": {},
     "output_type": "execute_result"
    }
   ],
   "source": [
    "vader.polarity_scores(\"I do not like this!\")"
   ]
  },
  {
   "cell_type": "code",
   "execution_count": 11,
   "metadata": {},
   "outputs": [
    {
     "data": {
      "text/plain": [
       "{'neg': 0.189, 'neu': 0.811, 'pos': 0.0, 'compound': -0.2732}"
      ]
     },
     "execution_count": 11,
     "metadata": {},
     "output_type": "execute_result"
    }
   ],
   "source": [
    "vader.polarity_scores(sample)"
   ]
  },
  {
   "cell_type": "code",
   "execution_count": 13,
   "metadata": {},
   "outputs": [
    {
     "data": {
      "application/vnd.jupyter.widget-view+json": {
       "model_id": "12bed0a18fcf46efb5f135bb61a568f9",
       "version_major": 2,
       "version_minor": 0
      },
      "text/plain": [
       "  0%|          | 0/3798 [00:00<?, ?it/s]"
      ]
     },
     "metadata": {},
     "output_type": "display_data"
    }
   ],
   "source": [
    "# Running the polarity score on the dataset\n",
    "results = {}\n",
    "for i, row in tqdm(df.iterrows(), total=len(df)):\n",
    "    text = row['title']\n",
    "    my_id = row['id']\n",
    "    results[my_id] = vader.polarity_scores(text)"
   ]
  },
  {
   "cell_type": "code",
   "execution_count": 26,
   "metadata": {},
   "outputs": [],
   "source": [
    "vaders_result = pd.DataFrame(results).T\n",
    "vaders_result = vaders_result.reset_index().rename(columns={'index': 'id'})\n",
    "vaders_result = vaders_result.merge(df, how='left', on='id')"
   ]
  },
  {
   "cell_type": "code",
   "execution_count": 27,
   "metadata": {},
   "outputs": [
    {
     "data": {
      "text/html": [
       "<div>\n",
       "<style scoped>\n",
       "    .dataframe tbody tr th:only-of-type {\n",
       "        vertical-align: middle;\n",
       "    }\n",
       "\n",
       "    .dataframe tbody tr th {\n",
       "        vertical-align: top;\n",
       "    }\n",
       "\n",
       "    .dataframe thead th {\n",
       "        text-align: right;\n",
       "    }\n",
       "</style>\n",
       "<table border=\"1\" class=\"dataframe\">\n",
       "  <thead>\n",
       "    <tr style=\"text-align: right;\">\n",
       "      <th></th>\n",
       "      <th>id</th>\n",
       "      <th>neg</th>\n",
       "      <th>neu</th>\n",
       "      <th>pos</th>\n",
       "      <th>compound</th>\n",
       "      <th>subreddit</th>\n",
       "      <th>title</th>\n",
       "      <th>score</th>\n",
       "      <th>num_comments</th>\n",
       "      <th>author</th>\n",
       "      <th>created_utc</th>\n",
       "      <th>upvote_ratio</th>\n",
       "    </tr>\n",
       "  </thead>\n",
       "  <tbody>\n",
       "    <tr>\n",
       "      <th>0</th>\n",
       "      <td>jptq5n</td>\n",
       "      <td>0.144</td>\n",
       "      <td>0.673</td>\n",
       "      <td>0.183</td>\n",
       "      <td>0.2023</td>\n",
       "      <td>politics</td>\n",
       "      <td>Megathread: Joe Biden Projected to Defeat Pres...</td>\n",
       "      <td>214312</td>\n",
       "      <td>81613</td>\n",
       "      <td>PoliticsModeratorBot</td>\n",
       "      <td>2020-11-07 16:28:04</td>\n",
       "      <td>0.88</td>\n",
       "    </tr>\n",
       "    <tr>\n",
       "      <th>1</th>\n",
       "      <td>84aiy6</td>\n",
       "      <td>0.000</td>\n",
       "      <td>1.000</td>\n",
       "      <td>0.000</td>\n",
       "      <td>0.0000</td>\n",
       "      <td>science</td>\n",
       "      <td>Physicist Stephen Hawking dies aged 76</td>\n",
       "      <td>199298</td>\n",
       "      <td>3830</td>\n",
       "      <td>ScienceModerator</td>\n",
       "      <td>2018-03-14 04:06:14</td>\n",
       "      <td>0.92</td>\n",
       "    </tr>\n",
       "    <tr>\n",
       "      <th>2</th>\n",
       "      <td>krntg6</td>\n",
       "      <td>0.162</td>\n",
       "      <td>0.838</td>\n",
       "      <td>0.000</td>\n",
       "      <td>-0.4019</td>\n",
       "      <td>politics</td>\n",
       "      <td>Mitch McConnell Will Lose Control Of The Senat...</td>\n",
       "      <td>156745</td>\n",
       "      <td>10140</td>\n",
       "      <td>klawdz</td>\n",
       "      <td>2021-01-06 13:25:44</td>\n",
       "      <td>0.92</td>\n",
       "    </tr>\n",
       "    <tr>\n",
       "      <th>3</th>\n",
       "      <td>bblu6v</td>\n",
       "      <td>0.104</td>\n",
       "      <td>0.896</td>\n",
       "      <td>0.000</td>\n",
       "      <td>-0.4215</td>\n",
       "      <td>science</td>\n",
       "      <td>The first picture of a black hole opens a new ...</td>\n",
       "      <td>155298</td>\n",
       "      <td>5512</td>\n",
       "      <td>Science_News</td>\n",
       "      <td>2019-04-10 13:11:37</td>\n",
       "      <td>0.95</td>\n",
       "    </tr>\n",
       "    <tr>\n",
       "      <th>4</th>\n",
       "      <td>ecm1zg</td>\n",
       "      <td>0.000</td>\n",
       "      <td>1.000</td>\n",
       "      <td>0.000</td>\n",
       "      <td>0.0000</td>\n",
       "      <td>politics</td>\n",
       "      <td>Megathread: House Votes to Impeach President D...</td>\n",
       "      <td>147732</td>\n",
       "      <td>50885</td>\n",
       "      <td>PoliticsModeratorBot</td>\n",
       "      <td>2019-12-19 01:36:13</td>\n",
       "      <td>0.89</td>\n",
       "    </tr>\n",
       "  </tbody>\n",
       "</table>\n",
       "</div>"
      ],
      "text/plain": [
       "       id    neg    neu    pos  compound subreddit  \\\n",
       "0  jptq5n  0.144  0.673  0.183    0.2023  politics   \n",
       "1  84aiy6  0.000  1.000  0.000    0.0000   science   \n",
       "2  krntg6  0.162  0.838  0.000   -0.4019  politics   \n",
       "3  bblu6v  0.104  0.896  0.000   -0.4215   science   \n",
       "4  ecm1zg  0.000  1.000  0.000    0.0000  politics   \n",
       "\n",
       "                                               title   score  num_comments  \\\n",
       "0  Megathread: Joe Biden Projected to Defeat Pres...  214312         81613   \n",
       "1             Physicist Stephen Hawking dies aged 76  199298          3830   \n",
       "2  Mitch McConnell Will Lose Control Of The Senat...  156745         10140   \n",
       "3  The first picture of a black hole opens a new ...  155298          5512   \n",
       "4  Megathread: House Votes to Impeach President D...  147732         50885   \n",
       "\n",
       "                 author          created_utc  upvote_ratio  \n",
       "0  PoliticsModeratorBot  2020-11-07 16:28:04          0.88  \n",
       "1      ScienceModerator  2018-03-14 04:06:14          0.92  \n",
       "2                klawdz  2021-01-06 13:25:44          0.92  \n",
       "3          Science_News  2019-04-10 13:11:37          0.95  \n",
       "4  PoliticsModeratorBot  2019-12-19 01:36:13          0.89  "
      ]
     },
     "execution_count": 27,
     "metadata": {},
     "output_type": "execute_result"
    }
   ],
   "source": [
    "vaders_result.head()"
   ]
  },
  {
   "cell_type": "code",
   "execution_count": null,
   "metadata": {},
   "outputs": [],
   "source": []
  }
 ],
 "metadata": {
  "kernelspec": {
   "display_name": ".venv",
   "language": "python",
   "name": "python3"
  },
  "language_info": {
   "codemirror_mode": {
    "name": "ipython",
    "version": 3
   },
   "file_extension": ".py",
   "mimetype": "text/x-python",
   "name": "python",
   "nbconvert_exporter": "python",
   "pygments_lexer": "ipython3",
   "version": "3.11.3"
  }
 },
 "nbformat": 4,
 "nbformat_minor": 2
}
